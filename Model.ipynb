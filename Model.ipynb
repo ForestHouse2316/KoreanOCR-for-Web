{
  "nbformat": 4,
  "nbformat_minor": 0,
  "metadata": {
    "colab": {
      "name": "Model.ipynb",
      "provenance": [],
      "authorship_tag": "ABX9TyMOCVKhXzYrC6JbBLwjsE9m",
      "include_colab_link": true
    },
    "kernelspec": {
      "name": "python3",
      "display_name": "Python 3"
    },
    "language_info": {
      "name": "python"
    }
  },
  "cells": [
    {
      "cell_type": "markdown",
      "metadata": {
        "id": "view-in-github",
        "colab_type": "text"
      },
      "source": [
        "<a href=\"https://colab.research.google.com/github/ForestHouse2316/KoreanOCR-for-Web/blob/main/Model.ipynb\" target=\"_parent\"><img src=\"https://colab.research.google.com/assets/colab-badge.svg\" alt=\"Open In Colab\"/></a>"
      ]
    },
    {
      "cell_type": "markdown",
      "metadata": {
        "id": "Y-csJXJXNtWe"
      },
      "source": [
        "## Imports and initial variables setting"
      ]
    },
    {
      "cell_type": "code",
      "metadata": {
        "id": "gdSXgYPbN0sV"
      },
      "source": [
        "# from google.colab import drive\n",
        "# drive.mount('/content/drive')"
      ],
      "execution_count": null,
      "outputs": []
    },
    {
      "cell_type": "code",
      "metadata": {
        "id": "qjK2_phU8zNq",
        "colab": {
          "base_uri": "https://localhost:8080/",
          "height": 424
        },
        "outputId": "67df3160-fbd4-46a1-cd88-e226c525e049"
      },
      "source": [
        "!pip install -q tensorflow-gpu==2.0.0-rc1\n",
        "import tensorflow as tf\n",
        "from tensorflow import keras\n",
        "import pandas as pd\n",
        "import matplotlib as plt\n",
        "import numpy as np\n",
        "import dataset.py"
      ],
      "execution_count": null,
      "outputs": [
        {
          "output_type": "stream",
          "text": [
            "\u001b[K     |████████████████████████████████| 380.5MB 42kB/s \n",
            "\u001b[K     |████████████████████████████████| 51kB 7.7MB/s \n",
            "\u001b[K     |████████████████████████████████| 4.3MB 33.7MB/s \n",
            "\u001b[K     |████████████████████████████████| 501kB 49.3MB/s \n",
            "\u001b[?25h"
          ],
          "name": "stdout"
        },
        {
          "output_type": "error",
          "ename": "ModuleNotFoundError",
          "evalue": "ignored",
          "traceback": [
            "\u001b[0;31m---------------------------------------------------------------------------\u001b[0m",
            "\u001b[0;31mModuleNotFoundError\u001b[0m                       Traceback (most recent call last)",
            "\u001b[0;32m<ipython-input-2-8dc939a66446>\u001b[0m in \u001b[0;36m<module>\u001b[0;34m()\u001b[0m\n\u001b[1;32m      5\u001b[0m \u001b[0;32mimport\u001b[0m \u001b[0mmatplotlib\u001b[0m \u001b[0;32mas\u001b[0m \u001b[0mplt\u001b[0m\u001b[0;34m\u001b[0m\u001b[0;34m\u001b[0m\u001b[0m\n\u001b[1;32m      6\u001b[0m \u001b[0;32mimport\u001b[0m \u001b[0mnumpy\u001b[0m \u001b[0;32mas\u001b[0m \u001b[0mnp\u001b[0m\u001b[0;34m\u001b[0m\u001b[0;34m\u001b[0m\u001b[0m\n\u001b[0;32m----> 7\u001b[0;31m \u001b[0;32mimport\u001b[0m \u001b[0mdataset\u001b[0m\u001b[0;34m.\u001b[0m\u001b[0mpy\u001b[0m\u001b[0;34m\u001b[0m\u001b[0;34m\u001b[0m\u001b[0m\n\u001b[0m",
            "\u001b[0;31mModuleNotFoundError\u001b[0m: No module named 'dataset'",
            "",
            "\u001b[0;31m---------------------------------------------------------------------------\u001b[0;32m\nNOTE: If your import is failing due to a missing package, you can\nmanually install dependencies using either !pip or !apt.\n\nTo view examples of installing some common dependencies, click the\n\"Open Examples\" button below.\n\u001b[0;31m---------------------------------------------------------------------------\u001b[0m\n"
          ]
        }
      ]
    },
    {
      "cell_type": "markdown",
      "metadata": {
        "id": "W_kDh1A1_Uk6"
      },
      "source": [
        "## Dataset Class"
      ]
    },
    {
      "cell_type": "code",
      "metadata": {
        "id": "2GfDNyHC_ZF2"
      },
      "source": [
        "import os\n",
        "import argparse\n",
        "import random\n",
        "\n",
        "class DataGenerator(tf.keras.utils.Sequence):\n",
        "    def __init__(self, data_path, opt, shuffle=True, train=True):\n",
        "        self.path = data_path\n",
        "        self.file_names = os.listdir(data_path)\n",
        "        self.n_samples = len(self.file_names)\n",
        "        #random.shuffle(self.file_names)\n",
        "        self.shuffle=shuffle\n",
        "        self.train=train\n",
        "        \n",
        "        self.batch_size = opt.batch_size\n",
        "        self.num_class = len(opt.character)\n",
        "        \n",
        "        self.idx_to_char = list(opt.character)\n",
        "        self.char_to_idx = {}\n",
        "        for i, char in enumerate(self.idx_to_char):\n",
        "            self.char_to_idx[char] = i\n",
        "            \n",
        "        self.on_epoch_end()\n",
        "        print(f'{self.n_samples} images loaded')\n",
        "    \n",
        "    def __len__(self):\n",
        "        return int(np.floor(self.n_samples / self.batch_size))\n",
        "    \n",
        "    def on_epoch_end(self):\n",
        "        self.indices = np.arange(self.n_samples)\n",
        "        if self.shuffle:\n",
        "            np.random.shuffle(self.indices)\n",
        "    \n",
        "    def __getitem__(self, index):\n",
        "        indices = self.indices[index*self.batch_size:(index+1)*self.batch_size]\n",
        "        files = [self.file_names[i] for i in indices]#range(index*self.batch_size, (index+1)*self.batch_size)]\n",
        "        xs = []\n",
        "        ys = []\n",
        "        \n",
        "        for file in files:\n",
        "            x = load_img(os.path.join(self.path, file), target_size=(32,32))\n",
        "            x = img_to_array(x)\n",
        "            x = x / 255.\n",
        "            xs.append(x)\n",
        "            \n",
        "            if self.train == True:\n",
        "                label = file[0]\n",
        "                ys.append(self.char_to_idx[label])\n",
        "        \n",
        "        return np.array(xs), np.array(ys)\n",
        "        \n",
        "class DataGeneratorByPath(tf.keras.utils.Sequence):\n",
        "    def __init__(self, file_paths, labels, opt, shuffle=True):\n",
        "        self.file_paths = file_paths\n",
        "        self.labels = labels\n",
        "        self.batch_size = opt.batch_size\n",
        "        self.shuffle = shuffle\n",
        "        \n",
        "        self.idx_to_char = list(opt.character)#['?'] + list(opt.character)\n",
        "        self.char_to_idx = {}\n",
        "        for i, char in enumerate(self.idx_to_char):\n",
        "            self.char_to_idx[char] = i#+1\n",
        "        #self.char_to_idx[self.idx_to_char[0]] = 0\n",
        "        \n",
        "        self.num_class = len(self.idx_to_char)\n",
        "        self.n_samples = len(self.file_paths)\n",
        "        \n",
        "        self.on_epoch_end()\n",
        "        print(f'{self.n_samples} images loaded')\n",
        "    \n",
        "    def __len__(self):\n",
        "        return int(np.floor(self.n_samples / self.batch_size))\n",
        "    \n",
        "    def on_epoch_end(self):\n",
        "        self.indices = np.arange(self.n_samples)\n",
        "        if self.shuffle:\n",
        "            np.random.shuffle(self.indices)\n",
        "    \n",
        "    def __getitem__(self, index):\n",
        "        indices = self.indices[index*self.batch_size:(index+1)*self.batch_size]\n",
        "        files = [self.file_paths[i] for i in indices]\n",
        "        labels = [self.labels[i] for i in indices]\n",
        "        xs = []\n",
        "        ys = []\n",
        "        \n",
        "        for file, label in zip(files, labels):\n",
        "            x = load_img(file, target_size=(32,32))\n",
        "            x = img_to_array(x)\n",
        "            x = x / 255.\n",
        "            xs.append(x)\n",
        "            \n",
        "            ys.append(self.char_to_idx[label])\n",
        "        \n",
        "        return np.array(xs), np.array(ys)"
      ],
      "execution_count": null,
      "outputs": []
    },
    {
      "cell_type": "markdown",
      "metadata": {
        "id": "CFHy1QMVNsTq"
      },
      "source": [
        "## Build-up for ML"
      ]
    },
    {
      "cell_type": "code",
      "metadata": {
        "id": "G2159ib9-KNj"
      },
      "source": [
        "dataStructure_path = '/content/drive/MyDrive/Colab Notebooks/OCR/train_data_info_omitted.csv'\n",
        "dataStructure_df = pd.read_csv(dataStructure_path)\n",
        "dataStructure_df.head(10)"
      ],
      "execution_count": null,
      "outputs": []
    },
    {
      "cell_type": "code",
      "metadata": {
        "id": "F73Tke5-Cdqh"
      },
      "source": [
        "outputLayerClassName = list('가각간갇갈갉갊감갑값갓갔강갖갗같갚갛개객갠갤갬갭갯갰갱갸갹갼걀걋걍걔걘걜거걱건걷걸걺검겁것겄겅겆겉겊겋게겐겔겜겝겟겠겡겨격겪견겯결겸겹겻겼경곁계곈곌곕곗고곡곤곧골곪곬곯곰곱곳공곶과곽관괄괆괌괍괏광괘괜괠괩괬괭괴괵괸괼굄굅굇굉교굔굘굡굣구국군굳굴굵굶굻굼굽굿궁궂궈궉권궐궜궝궤궷귀귁귄귈귐귑귓규균귤그극근귿글긁금급긋긍긔기긱긴긷길긺김깁깃깅깆깊까깍깎깐깔깖깜깝깟깠깡깥깨깩깬깰깸깹깻깼깽꺄꺅꺌꺼꺽꺾껀껄껌껍껏껐껑께껙껜껨껫껭껴껸껼꼇꼈꼍꼐꼬꼭꼰꼲꼴꼼꼽꼿꽁꽂꽃꽈꽉꽐꽜꽝꽤꽥꽹꾀꾄꾈꾐꾑꾕꾜꾸꾹꾼꿀꿇꿈꿉꿋꿍꿎꿔꿜꿨꿩꿰꿱꿴꿸뀀뀁뀄뀌뀐뀔뀜뀝뀨끄끅끈끊끌끎끓끔끕끗끙끝끼끽낀낄낌낍낏낑나낙낚난낟날낡낢남납낫났낭낮낯낱낳내낵낸낼냄냅냇냈냉냐냑냔냘냠냥너넉넋넌널넒넓넘넙넛넜넝넣네넥넨넬넴넵넷넸넹녀녁년녈념녑녔녕녘녜녠노녹논놀놂놈놉놋농높놓놔놘놜놨뇌뇐뇔뇜뇝뇟뇨뇩뇬뇰뇹뇻뇽누눅눈눋눌눔눕눗눙눠눴눼뉘뉜뉠뉨뉩뉴뉵뉼늄늅늉느늑는늘늙늚늠늡늣능늦늪늬늰늴니닉닌닐닒님닙닛닝닢다닥닦단닫달닭닮닯닳담답닷닸당닺닻닿대댁댄댈댐댑댓댔댕댜더덕덖던덛덜덞덟덤덥덧덩덫덮데덱덴델뎀뎁뎃뎄뎅뎌뎐뎔뎠뎡뎨뎬도독돈돋돌돎돐돔돕돗동돛돝돠돤돨돼됐되된될됨됩됫됴두둑둔둘둠둡둣둥둬뒀뒈뒝뒤뒨뒬뒵뒷뒹듀듄듈듐듕드득든듣들듦듬듭듯등듸디딕딘딛딜딤딥딧딨딩딪따딱딴딸땀땁땃땄땅땋때땍땐땔땜땝땟땠땡떠떡떤떨떪떫떰떱떳떴떵떻떼떽뗀뗄뗌뗍뗏뗐뗑뗘뗬또똑똔똘똥똬똴뙈뙤뙨뚜뚝뚠뚤뚫뚬뚱뛔뛰뛴뛸뜀뜁뜅뜨뜩뜬뜯뜰뜸뜹뜻띄띈띌띔띕띠띤띨띰띱띳띵라락란랄람랍랏랐랑랒랖랗래랙랜랠램랩랫랬랭랴략랸럇량러럭런럴럼럽럿렀렁렇레렉렌렐렘렙렛렝려력련렬렴렵렷렸령례롄롑롓로록론롤롬롭롯롱롸롼뢍뢨뢰뢴뢸룀룁룃룅료룐룔룝룟룡루룩룬룰룸룹룻룽뤄뤘뤠뤼뤽륀륄륌륏륑류륙륜률륨륩륫륭르륵른를름릅릇릉릊릍릎리릭린릴림립릿링마막만많맏말맑맒맘맙맛망맞맡맣매맥맨맬맴맵맷맸맹맺먀먁먈먕머먹먼멀멂멈멉멋멍멎멓메멕멘멜멤멥멧멨멩며멱면멸몃몄명몇몌모목몫몬몰몲몸몹못몽뫄뫈뫘뫙뫼묀묄묍묏묑묘묜묠묩묫무묵묶문묻물묽묾뭄뭅뭇뭉뭍뭏뭐뭔뭘뭡뭣뭬뮈뮌뮐뮤뮨뮬뮴뮷므믄믈믐믓미믹민믿밀밂밈밉밋밌밍및밑바박밖밗반받발밝밞밟밤밥밧방밭배백밴밸뱀뱁뱃뱄뱅뱉뱌뱍뱐뱝버벅번벋벌벎범법벗벙벚베벡벤벧벨벰벱벳벴벵벼벽변별볍볏볐병볕볘볜보복볶본볼봄봅봇봉봐봔봤봬뵀뵈뵉뵌뵐뵘뵙뵤뵨부북분붇불붉붊붐붑붓붕붙붚붜붤붰붸뷔뷕뷘뷜뷩뷰뷴뷸븀븃븅브븍븐블븜븝븟비빅빈빌빎빔빕빗빙빚빛빠빡빤빨빪빰빱빳빴빵빻빼빽뺀뺄뺌뺍뺏뺐뺑뺘뺙뺨뻐뻑뻔뻗뻘뻠뻣뻤뻥뻬뼁뼈뼉뼘뼙뼛뼜뼝뽀뽁뽄뽈뽐뽑뽕뾔뾰뿅뿌뿍뿐뿔뿜뿟뿡쀼쁑쁘쁜쁠쁨쁩삐삑삔삘삠삡삣삥사삭삯산삳살삵삶삼삽삿샀상샅새색샌샐샘샙샛샜생샤샥샨샬샴샵샷샹섀섄섈섐섕서석섞섟선섣설섦섧섬섭섯섰성섶세섹센셀셈셉셋셌셍셔셕션셜셤셥셧셨셩셰셴셸솅소속솎손솔솖솜솝솟송솥솨솩솬솰솽쇄쇈쇌쇔쇗쇘쇠쇤쇨쇰쇱쇳쇼쇽숀숄숌숍숏숑수숙순숟술숨숩숫숭숯숱숲숴쉈쉐쉑쉔쉘쉠쉥쉬쉭쉰쉴쉼쉽쉿슁슈슉슐슘슛슝스슥슨슬슭슴습슷승시식신싣실싫심십싯싱싶싸싹싻싼쌀쌈쌉쌌쌍쌓쌔쌕쌘쌜쌤쌥쌨쌩썅써썩썬썰썲썸썹썼썽쎄쎈쎌쏀쏘쏙쏜쏟쏠쏢쏨쏩쏭쏴쏵쏸쐈쐐쐤쐬쐰쐴쐼쐽쑈쑤쑥쑨쑬쑴쑵쑹쒀쒔쒜쒸쒼쓩쓰쓱쓴쓸쓺쓿씀씁씌씐씔씜씨씩씬씰씸씹씻씽아악안앉않알앍앎앓암압앗았앙앝앞애액앤앨앰앱앳앴앵야약얀얄얇얌얍얏양얕얗얘얜얠얩어억언얹얻얼얽얾엄업없엇었엉엊엌엎에엑엔엘엠엡엣엥여역엮연열엶엷염엽엾엿였영옅옆옇예옌옐옘옙옛옜오옥온올옭옮옰옳옴옵옷옹옻와왁완왈왐왑왓왔왕왜왝왠왬왯왱외왹왼욀욈욉욋욍요욕욘욜욤욥욧용우욱운울욹욺움웁웃웅워웍원월웜웝웠웡웨웩웬웰웸웹웽위윅윈윌윔윕윗윙유육윤율윰윱윳융윷으윽은을읊음읍읏응읒읓읔읕읖읗의읜읠읨읫이익인일읽읾잃임입잇있잉잊잎자작잔잖잗잘잚잠잡잣잤장잦재잭잰잴잼잽잿쟀쟁쟈쟉쟌쟎쟐쟘쟝쟤쟨쟬저적전절젊점접젓정젖제젝젠젤젬젭젯젱져젼졀졈졉졌졍졔조족존졸졺좀좁좃종좆좇좋좌좍좔좝좟좡좨좼좽죄죈죌죔죕죗죙죠죡죤죵주죽준줄줅줆줌줍줏중줘줬줴쥐쥑쥔쥘쥠쥡쥣쥬쥰쥴쥼즈즉즌즐즘즙즛증지직진짇질짊짐집짓징짖짙짚짜짝짠짢짤짧짬짭짯짰짱째짹짼쨀쨈쨉쨋쨌쨍쨔쨘쨩쩌쩍쩐쩔쩜쩝쩟쩠쩡쩨쩽쪄쪘쪼쪽쫀쫄쫌쫍쫏쫑쫓쫘쫙쫠쫬쫴쬈쬐쬔쬘쬠쬡쭁쭈쭉쭌쭐쭘쭙쭝쭤쭸쭹쮜쮸쯔쯤쯧쯩찌찍찐찔찜찝찡찢찧차착찬찮찰참찹찻찼창찾채책챈챌챔챕챗챘챙챠챤챦챨챰챵처척천철첨첩첫첬청체첵첸첼쳄쳅쳇쳉쳐쳔쳤쳬쳰촁초촉촌촐촘촙촛총촤촨촬촹최쵠쵤쵬쵭쵯쵱쵸춈추축춘출춤춥춧충춰췄췌췐취췬췰췸췹췻췽츄츈츌츔츙츠측츤츨츰츱츳층치칙친칟칠칡침칩칫칭카칵칸칼캄캅캇캉캐캑캔캘캠캡캣캤캥캬캭컁커컥컨컫컬컴컵컷컸컹케켁켄켈켐켑켓켕켜켠켤켬켭켯켰켱켸코콕콘콜콤콥콧콩콰콱콴콸쾀쾅쾌쾡쾨쾰쿄쿠쿡쿤쿨쿰쿱쿳쿵쿼퀀퀄퀑퀘퀭퀴퀵퀸퀼큄큅큇큉큐큔큘큠크큭큰클큼큽킁키킥킨킬킴킵킷킹타탁탄탈탉탐탑탓탔탕태택탠탤탬탭탯탰탱탸턍터턱턴털턺텀텁텃텄텅테텍텐텔템텝텟텡텨텬텼톄톈토톡톤톨톰톱톳통톺톼퇀퇘퇴퇸툇툉툐투툭툰툴툼툽툿퉁퉈퉜퉤튀튁튄튈튐튑튕튜튠튤튬튱트특튼튿틀틂틈틉틋틔틘틜틤틥티틱틴틸팀팁팃팅파팍팎판팔팖팜팝팟팠팡팥패팩팬팰팸팹팻팼팽퍄퍅퍼퍽펀펄펌펍펏펐펑페펙펜펠펨펩펫펭펴편펼폄폅폈평폐폘폡폣포폭폰폴폼폽폿퐁퐈퐝푀푄표푠푤푭푯푸푹푼푿풀풂품풉풋풍풔풩퓌퓐퓔퓜퓟퓨퓬퓰퓸퓻퓽프픈플픔픕픗피픽핀필핌핍핏핑하학한할핥함합핫항해핵핸핼햄햅햇했행햐향허헉헌헐헒험헙헛헝헤헥헨헬헴헵헷헹혀혁현혈혐협혓혔형혜혠혤혭호혹혼홀홅홈홉홋홍홑화확환활홧황홰홱홴횃횅회획횐횔횝횟횡효횬횰횹횻후훅훈훌훑훔훗훙훠훤훨훰훵훼훽휀휄휑휘휙휜휠휨휩휫휭휴휵휸휼흄흇흉흐흑흔흖흗흘흙흠흡흣흥흩희흰흴흼흽힁히힉힌힐힘힙힛힝')"
      ],
      "execution_count": null,
      "outputs": []
    },
    {
      "cell_type": "code",
      "metadata": {
        "id": "GQga5DvSQj_w"
      },
      "source": [
        ""
      ],
      "execution_count": null,
      "outputs": []
    },
    {
      "cell_type": "code",
      "metadata": {
        "id": "yiFIg58-Q36c",
        "colab": {
          "base_uri": "https://localhost:8080/",
          "height": 1000
        },
        "outputId": "2624b4f1-dc6f-4d43-f7c0-3e1f5ef8dcb9"
      },
      "source": [
        "import tensorflow as tf\n",
        "from IPython.display import SVG\n",
        "from tensorflow.python.keras.utils.vis_utils import model_to_dot\n",
        "%matplotlib inline\n",
        "\n",
        "\n",
        "def myCNN(LetterClass, input_res=(32,32,3), output_channel=512): # 글자 목록 / 입력 해상도 / 출력 채널\n",
        "    output_channel = [int(output_channel)/8, int(output_channel)/4, int(output_channel)/2, output_channel]\n",
        "\n",
        "    '''\n",
        "    Dense - 모든 퍼셉트론 연결\n",
        "    2D Convolution Layer - 2차원 합성곱 레이어\n",
        "    2D MaxPooling - 최댓값을 기준으로하는 다운샘플링\n",
        "    Relu Function - Sigmoid 진화형 (이지만 함수 특성상 음수에서 뉴런이 죽는 상황 발생하기도 함)\n",
        "    SoftMax Fuction - 다중클래스 분류용 (각 요소의 편차에 대한 최적화)\n",
        "    Batch Nomalization - 배치 정규화, weight 값에 정규화작업을 해준다. 배치의 크기가 적절해야한다.\n",
        "    '''\n",
        "\n",
        "    '''\n",
        "    학습시간 단축을 위해서 레이어를 조금 줄여볼까 생각했는데, 그러다가는 정확도랑 내 손모가지가 같이 날라갈 것 같아서 배치정규화 조금 더 추가한 정도...?\n",
        "    아직 능지가 부족하기 때문에 2048로 가는 길에서 급격하게 다운샘플 시키면 아무래도 신경망에 좋지는 않겠지..\n",
        "    '''\n",
        "\n",
        "    inputs = tf.keras.layers.Input(input_res)\n",
        "    outputs = tf.keras.layers.Conv2D(output_channel[0], 3, padding='same', activation='relu')(inputs) # 32x32x64\n",
        "    outputs = tf.keras.layers.MaxPooling2D(2, 2)(outputs) # 16x16x64\n",
        "    outputs = tf.keras.layers.Conv2D(output_channel[1], 3, padding='same', activation='relu')(outputs) # 16x16x128\n",
        "    outputs = tf.keras.layers.MaxPooling2D(2, 2)(outputs) # 8x8x128\n",
        "    outputs = tf.keras.layers.Conv2D(output_channel[2], 3, padding='same', activation='relu')(outputs) # 8x8x256\n",
        "    outputs = tf.keras.layers.Conv2D(output_channel[2], 3, padding='same', activation='relu')(outputs) # 8x8x256\n",
        "    outputs = tf.keras.layers.BatchNormalization()(outputs) # [Add] 요정도까지는 배치정규화 시켜도 괜찮지 않을까.. 해서.. 나의 시간은 소중하기 때문에.....\n",
        "    outputs = tf.keras.layers.ReLU()(outputs) # [Add]\n",
        "    outputs = tf.keras.layers.MaxPooling2D(2, 2)(outputs) # 4x4x256\n",
        "    outputs = tf.keras.layers.Conv2D(output_channel[3], 3, padding='same', activation='relu', use_bias=False)(outputs) # 4x4x512\n",
        "    outputs = tf.keras.layers.BatchNormalization()(outputs)\n",
        "    outputs = tf.keras.layers.ReLU()(outputs)\n",
        "    outputs = tf.keras.layers.Conv2D(output_channel[3], 3, padding='same', activation='relu', use_bias=False)(outputs) # 4x4x512\n",
        "    outputs = tf.keras.layers.BatchNormalization()(outputs)\n",
        "    outputs = tf.keras.layers.ReLU()(outputs)\n",
        "    outputs = tf.keras.layers.MaxPooling2D(2, 2)(outputs) # 2x2x512\n",
        "    outputs = tf.keras.layers.Flatten()(outputs) # 2048 -> 현대한글의 글자수는 2350개\n",
        "    outputs = tf.keras.layers.Dropout(0.3)(outputs)\n",
        "    outputs = tf.keras.layers.Dense(LetterClass, activation='softmax')(outputs)\n",
        "\n",
        "    return tf.keras.models.Model(inputs=inputs, outputs=outputs)\n",
        "\n",
        "\n",
        "\n",
        "\n",
        "\n",
        "\n",
        "SVG(model_to_dot(myCNN(2350), show_shapes=True, dpi=60).create(prog='dot', format='svg'))"
      ],
      "execution_count": null,
      "outputs": [
        {
          "output_type": "execute_result",
          "data": {
            "text/plain": [
              "<IPython.core.display.SVG object>"
            ],
            "image/svg+xml": "<svg height=\"1360pt\" viewBox=\"0.00 0.00 461.00 1632.00\" width=\"384pt\" xmlns=\"http://www.w3.org/2000/svg\" xmlns:xlink=\"http://www.w3.org/1999/xlink\">\n<g class=\"graph\" id=\"graph0\" transform=\"scale(.8333 .8333) rotate(0) translate(4 1628)\">\n<title>G</title>\n<polygon fill=\"#ffffff\" points=\"-4,4 -4,-1628 457,-1628 457,4 -4,4\" stroke=\"transparent\"/>\n<!-- 139619623220816 -->\n<g class=\"node\" id=\"node1\">\n<title>139619623220816</title>\n<polygon fill=\"none\" points=\"68,-1577.5 68,-1623.5 385,-1623.5 385,-1577.5 68,-1577.5\" stroke=\"#000000\"/>\n<text fill=\"#000000\" font-family=\"Times,serif\" font-size=\"14.00\" text-anchor=\"middle\" x=\"134.5\" y=\"-1596.8\">input_8: InputLayer</text>\n<polyline fill=\"none\" points=\"201,-1577.5 201,-1623.5 \" stroke=\"#000000\"/>\n<text fill=\"#000000\" font-family=\"Times,serif\" font-size=\"14.00\" text-anchor=\"middle\" x=\"230\" y=\"-1608.3\">input:</text>\n<polyline fill=\"none\" points=\"201,-1600.5 259,-1600.5 \" stroke=\"#000000\"/>\n<text fill=\"#000000\" font-family=\"Times,serif\" font-size=\"14.00\" text-anchor=\"middle\" x=\"230\" y=\"-1585.3\">output:</text>\n<polyline fill=\"none\" points=\"259,-1577.5 259,-1623.5 \" stroke=\"#000000\"/>\n<text fill=\"#000000\" font-family=\"Times,serif\" font-size=\"14.00\" text-anchor=\"middle\" x=\"322\" y=\"-1608.3\">[(None, 32, 32, 3)]</text>\n<polyline fill=\"none\" points=\"259,-1600.5 385,-1600.5 \" stroke=\"#000000\"/>\n<text fill=\"#000000\" font-family=\"Times,serif\" font-size=\"14.00\" text-anchor=\"middle\" x=\"322\" y=\"-1585.3\">[(None, 32, 32, 3)]</text>\n</g>\n<!-- 139619621264272 -->\n<g class=\"node\" id=\"node2\">\n<title>139619621264272</title>\n<polygon fill=\"none\" points=\"65,-1494.5 65,-1540.5 388,-1540.5 388,-1494.5 65,-1494.5\" stroke=\"#000000\"/>\n<text fill=\"#000000\" font-family=\"Times,serif\" font-size=\"14.00\" text-anchor=\"middle\" x=\"135\" y=\"-1513.8\">conv2d_42: Conv2D</text>\n<polyline fill=\"none\" points=\"205,-1494.5 205,-1540.5 \" stroke=\"#000000\"/>\n<text fill=\"#000000\" font-family=\"Times,serif\" font-size=\"14.00\" text-anchor=\"middle\" x=\"234\" y=\"-1525.3\">input:</text>\n<polyline fill=\"none\" points=\"205,-1517.5 263,-1517.5 \" stroke=\"#000000\"/>\n<text fill=\"#000000\" font-family=\"Times,serif\" font-size=\"14.00\" text-anchor=\"middle\" x=\"234\" y=\"-1502.3\">output:</text>\n<polyline fill=\"none\" points=\"263,-1494.5 263,-1540.5 \" stroke=\"#000000\"/>\n<text fill=\"#000000\" font-family=\"Times,serif\" font-size=\"14.00\" text-anchor=\"middle\" x=\"325.5\" y=\"-1525.3\">(None, 32, 32, 3)</text>\n<polyline fill=\"none\" points=\"263,-1517.5 388,-1517.5 \" stroke=\"#000000\"/>\n<text fill=\"#000000\" font-family=\"Times,serif\" font-size=\"14.00\" text-anchor=\"middle\" x=\"325.5\" y=\"-1502.3\">(None, 32, 32, 64)</text>\n</g>\n<!-- 139619623220816&#45;&gt;139619621264272 -->\n<g class=\"edge\" id=\"edge1\">\n<title>139619623220816-&gt;139619621264272</title>\n<path d=\"M226.5,-1577.3799C226.5,-1569.1745 226.5,-1559.7679 226.5,-1550.8786\" fill=\"none\" stroke=\"#000000\"/>\n<polygon fill=\"#000000\" points=\"230.0001,-1550.784 226.5,-1540.784 223.0001,-1550.784 230.0001,-1550.784\" stroke=\"#000000\"/>\n</g>\n<!-- 139619625746128 -->\n<g class=\"node\" id=\"node3\">\n<title>139619625746128</title>\n<polygon fill=\"none\" points=\"20.5,-1411.5 20.5,-1457.5 432.5,-1457.5 432.5,-1411.5 20.5,-1411.5\" stroke=\"#000000\"/>\n<text fill=\"#000000\" font-family=\"Times,serif\" font-size=\"14.00\" text-anchor=\"middle\" x=\"135\" y=\"-1430.8\">max_pooling2d_28: MaxPooling2D</text>\n<polyline fill=\"none\" points=\"249.5,-1411.5 249.5,-1457.5 \" stroke=\"#000000\"/>\n<text fill=\"#000000\" font-family=\"Times,serif\" font-size=\"14.00\" text-anchor=\"middle\" x=\"278.5\" y=\"-1442.3\">input:</text>\n<polyline fill=\"none\" points=\"249.5,-1434.5 307.5,-1434.5 \" stroke=\"#000000\"/>\n<text fill=\"#000000\" font-family=\"Times,serif\" font-size=\"14.00\" text-anchor=\"middle\" x=\"278.5\" y=\"-1419.3\">output:</text>\n<polyline fill=\"none\" points=\"307.5,-1411.5 307.5,-1457.5 \" stroke=\"#000000\"/>\n<text fill=\"#000000\" font-family=\"Times,serif\" font-size=\"14.00\" text-anchor=\"middle\" x=\"370\" y=\"-1442.3\">(None, 32, 32, 64)</text>\n<polyline fill=\"none\" points=\"307.5,-1434.5 432.5,-1434.5 \" stroke=\"#000000\"/>\n<text fill=\"#000000\" font-family=\"Times,serif\" font-size=\"14.00\" text-anchor=\"middle\" x=\"370\" y=\"-1419.3\">(None, 16, 16, 64)</text>\n</g>\n<!-- 139619621264272&#45;&gt;139619625746128 -->\n<g class=\"edge\" id=\"edge2\">\n<title>139619621264272-&gt;139619625746128</title>\n<path d=\"M226.5,-1494.3799C226.5,-1486.1745 226.5,-1476.7679 226.5,-1467.8786\" fill=\"none\" stroke=\"#000000\"/>\n<polygon fill=\"#000000\" points=\"230.0001,-1467.784 226.5,-1457.784 223.0001,-1467.784 230.0001,-1467.784\" stroke=\"#000000\"/>\n</g>\n<!-- 139619622051472 -->\n<g class=\"node\" id=\"node4\">\n<title>139619622051472</title>\n<polygon fill=\"none\" points=\"61.5,-1328.5 61.5,-1374.5 391.5,-1374.5 391.5,-1328.5 61.5,-1328.5\" stroke=\"#000000\"/>\n<text fill=\"#000000\" font-family=\"Times,serif\" font-size=\"14.00\" text-anchor=\"middle\" x=\"131.5\" y=\"-1347.8\">conv2d_43: Conv2D</text>\n<polyline fill=\"none\" points=\"201.5,-1328.5 201.5,-1374.5 \" stroke=\"#000000\"/>\n<text fill=\"#000000\" font-family=\"Times,serif\" font-size=\"14.00\" text-anchor=\"middle\" x=\"230.5\" y=\"-1359.3\">input:</text>\n<polyline fill=\"none\" points=\"201.5,-1351.5 259.5,-1351.5 \" stroke=\"#000000\"/>\n<text fill=\"#000000\" font-family=\"Times,serif\" font-size=\"14.00\" text-anchor=\"middle\" x=\"230.5\" y=\"-1336.3\">output:</text>\n<polyline fill=\"none\" points=\"259.5,-1328.5 259.5,-1374.5 \" stroke=\"#000000\"/>\n<text fill=\"#000000\" font-family=\"Times,serif\" font-size=\"14.00\" text-anchor=\"middle\" x=\"325.5\" y=\"-1359.3\">(None, 16, 16, 64)</text>\n<polyline fill=\"none\" points=\"259.5,-1351.5 391.5,-1351.5 \" stroke=\"#000000\"/>\n<text fill=\"#000000\" font-family=\"Times,serif\" font-size=\"14.00\" text-anchor=\"middle\" x=\"325.5\" y=\"-1336.3\">(None, 16, 16, 128)</text>\n</g>\n<!-- 139619625746128&#45;&gt;139619622051472 -->\n<g class=\"edge\" id=\"edge3\">\n<title>139619625746128-&gt;139619622051472</title>\n<path d=\"M226.5,-1411.3799C226.5,-1403.1745 226.5,-1393.7679 226.5,-1384.8786\" fill=\"none\" stroke=\"#000000\"/>\n<polygon fill=\"#000000\" points=\"230.0001,-1384.784 226.5,-1374.784 223.0001,-1384.784 230.0001,-1384.784\" stroke=\"#000000\"/>\n</g>\n<!-- 139619622535568 -->\n<g class=\"node\" id=\"node5\">\n<title>139619622535568</title>\n<polygon fill=\"none\" points=\"17,-1245.5 17,-1291.5 436,-1291.5 436,-1245.5 17,-1245.5\" stroke=\"#000000\"/>\n<text fill=\"#000000\" font-family=\"Times,serif\" font-size=\"14.00\" text-anchor=\"middle\" x=\"131.5\" y=\"-1264.8\">max_pooling2d_29: MaxPooling2D</text>\n<polyline fill=\"none\" points=\"246,-1245.5 246,-1291.5 \" stroke=\"#000000\"/>\n<text fill=\"#000000\" font-family=\"Times,serif\" font-size=\"14.00\" text-anchor=\"middle\" x=\"275\" y=\"-1276.3\">input:</text>\n<polyline fill=\"none\" points=\"246,-1268.5 304,-1268.5 \" stroke=\"#000000\"/>\n<text fill=\"#000000\" font-family=\"Times,serif\" font-size=\"14.00\" text-anchor=\"middle\" x=\"275\" y=\"-1253.3\">output:</text>\n<polyline fill=\"none\" points=\"304,-1245.5 304,-1291.5 \" stroke=\"#000000\"/>\n<text fill=\"#000000\" font-family=\"Times,serif\" font-size=\"14.00\" text-anchor=\"middle\" x=\"370\" y=\"-1276.3\">(None, 16, 16, 128)</text>\n<polyline fill=\"none\" points=\"304,-1268.5 436,-1268.5 \" stroke=\"#000000\"/>\n<text fill=\"#000000\" font-family=\"Times,serif\" font-size=\"14.00\" text-anchor=\"middle\" x=\"370\" y=\"-1253.3\">(None, 8, 8, 128)</text>\n</g>\n<!-- 139619622051472&#45;&gt;139619622535568 -->\n<g class=\"edge\" id=\"edge4\">\n<title>139619622051472-&gt;139619622535568</title>\n<path d=\"M226.5,-1328.3799C226.5,-1320.1745 226.5,-1310.7679 226.5,-1301.8786\" fill=\"none\" stroke=\"#000000\"/>\n<polygon fill=\"#000000\" points=\"230.0001,-1301.784 226.5,-1291.784 223.0001,-1301.784 230.0001,-1301.784\" stroke=\"#000000\"/>\n</g>\n<!-- 139619621967568 -->\n<g class=\"node\" id=\"node6\">\n<title>139619621967568</title>\n<polygon fill=\"none\" points=\"69,-1162.5 69,-1208.5 384,-1208.5 384,-1162.5 69,-1162.5\" stroke=\"#000000\"/>\n<text fill=\"#000000\" font-family=\"Times,serif\" font-size=\"14.00\" text-anchor=\"middle\" x=\"139\" y=\"-1181.8\">conv2d_44: Conv2D</text>\n<polyline fill=\"none\" points=\"209,-1162.5 209,-1208.5 \" stroke=\"#000000\"/>\n<text fill=\"#000000\" font-family=\"Times,serif\" font-size=\"14.00\" text-anchor=\"middle\" x=\"238\" y=\"-1193.3\">input:</text>\n<polyline fill=\"none\" points=\"209,-1185.5 267,-1185.5 \" stroke=\"#000000\"/>\n<text fill=\"#000000\" font-family=\"Times,serif\" font-size=\"14.00\" text-anchor=\"middle\" x=\"238\" y=\"-1170.3\">output:</text>\n<polyline fill=\"none\" points=\"267,-1162.5 267,-1208.5 \" stroke=\"#000000\"/>\n<text fill=\"#000000\" font-family=\"Times,serif\" font-size=\"14.00\" text-anchor=\"middle\" x=\"325.5\" y=\"-1193.3\">(None, 8, 8, 128)</text>\n<polyline fill=\"none\" points=\"267,-1185.5 384,-1185.5 \" stroke=\"#000000\"/>\n<text fill=\"#000000\" font-family=\"Times,serif\" font-size=\"14.00\" text-anchor=\"middle\" x=\"325.5\" y=\"-1170.3\">(None, 8, 8, 256)</text>\n</g>\n<!-- 139619622535568&#45;&gt;139619621967568 -->\n<g class=\"edge\" id=\"edge5\">\n<title>139619622535568-&gt;139619621967568</title>\n<path d=\"M226.5,-1245.3799C226.5,-1237.1745 226.5,-1227.7679 226.5,-1218.8786\" fill=\"none\" stroke=\"#000000\"/>\n<polygon fill=\"#000000\" points=\"230.0001,-1218.784 226.5,-1208.784 223.0001,-1218.784 230.0001,-1218.784\" stroke=\"#000000\"/>\n</g>\n<!-- 139619623012432 -->\n<g class=\"node\" id=\"node7\">\n<title>139619623012432</title>\n<polygon fill=\"none\" points=\"69,-1079.5 69,-1125.5 384,-1125.5 384,-1079.5 69,-1079.5\" stroke=\"#000000\"/>\n<text fill=\"#000000\" font-family=\"Times,serif\" font-size=\"14.00\" text-anchor=\"middle\" x=\"139\" y=\"-1098.8\">conv2d_45: Conv2D</text>\n<polyline fill=\"none\" points=\"209,-1079.5 209,-1125.5 \" stroke=\"#000000\"/>\n<text fill=\"#000000\" font-family=\"Times,serif\" font-size=\"14.00\" text-anchor=\"middle\" x=\"238\" y=\"-1110.3\">input:</text>\n<polyline fill=\"none\" points=\"209,-1102.5 267,-1102.5 \" stroke=\"#000000\"/>\n<text fill=\"#000000\" font-family=\"Times,serif\" font-size=\"14.00\" text-anchor=\"middle\" x=\"238\" y=\"-1087.3\">output:</text>\n<polyline fill=\"none\" points=\"267,-1079.5 267,-1125.5 \" stroke=\"#000000\"/>\n<text fill=\"#000000\" font-family=\"Times,serif\" font-size=\"14.00\" text-anchor=\"middle\" x=\"325.5\" y=\"-1110.3\">(None, 8, 8, 256)</text>\n<polyline fill=\"none\" points=\"267,-1102.5 384,-1102.5 \" stroke=\"#000000\"/>\n<text fill=\"#000000\" font-family=\"Times,serif\" font-size=\"14.00\" text-anchor=\"middle\" x=\"325.5\" y=\"-1087.3\">(None, 8, 8, 256)</text>\n</g>\n<!-- 139619621967568&#45;&gt;139619623012432 -->\n<g class=\"edge\" id=\"edge6\">\n<title>139619621967568-&gt;139619623012432</title>\n<path d=\"M226.5,-1162.3799C226.5,-1154.1745 226.5,-1144.7679 226.5,-1135.8786\" fill=\"none\" stroke=\"#000000\"/>\n<polygon fill=\"#000000\" points=\"230.0001,-1135.784 226.5,-1125.784 223.0001,-1135.784 230.0001,-1135.784\" stroke=\"#000000\"/>\n</g>\n<!-- 139619622349904 -->\n<g class=\"node\" id=\"node8\">\n<title>139619622349904</title>\n<polygon fill=\"none\" points=\"0,-996.5 0,-1042.5 453,-1042.5 453,-996.5 0,-996.5\" stroke=\"#000000\"/>\n<text fill=\"#000000\" font-family=\"Times,serif\" font-size=\"14.00\" text-anchor=\"middle\" x=\"139\" y=\"-1015.8\">batch_normalization_21: BatchNormalization</text>\n<polyline fill=\"none\" points=\"278,-996.5 278,-1042.5 \" stroke=\"#000000\"/>\n<text fill=\"#000000\" font-family=\"Times,serif\" font-size=\"14.00\" text-anchor=\"middle\" x=\"307\" y=\"-1027.3\">input:</text>\n<polyline fill=\"none\" points=\"278,-1019.5 336,-1019.5 \" stroke=\"#000000\"/>\n<text fill=\"#000000\" font-family=\"Times,serif\" font-size=\"14.00\" text-anchor=\"middle\" x=\"307\" y=\"-1004.3\">output:</text>\n<polyline fill=\"none\" points=\"336,-996.5 336,-1042.5 \" stroke=\"#000000\"/>\n<text fill=\"#000000\" font-family=\"Times,serif\" font-size=\"14.00\" text-anchor=\"middle\" x=\"394.5\" y=\"-1027.3\">(None, 8, 8, 256)</text>\n<polyline fill=\"none\" points=\"336,-1019.5 453,-1019.5 \" stroke=\"#000000\"/>\n<text fill=\"#000000\" font-family=\"Times,serif\" font-size=\"14.00\" text-anchor=\"middle\" x=\"394.5\" y=\"-1004.3\">(None, 8, 8, 256)</text>\n</g>\n<!-- 139619623012432&#45;&gt;139619622349904 -->\n<g class=\"edge\" id=\"edge7\">\n<title>139619623012432-&gt;139619622349904</title>\n<path d=\"M226.5,-1079.3799C226.5,-1071.1745 226.5,-1061.7679 226.5,-1052.8786\" fill=\"none\" stroke=\"#000000\"/>\n<polygon fill=\"#000000\" points=\"230.0001,-1052.784 226.5,-1042.784 223.0001,-1052.784 230.0001,-1052.784\" stroke=\"#000000\"/>\n</g>\n<!-- 139619621264400 -->\n<g class=\"node\" id=\"node9\">\n<title>139619621264400</title>\n<polygon fill=\"none\" points=\"83.5,-913.5 83.5,-959.5 369.5,-959.5 369.5,-913.5 83.5,-913.5\" stroke=\"#000000\"/>\n<text fill=\"#000000\" font-family=\"Times,serif\" font-size=\"14.00\" text-anchor=\"middle\" x=\"139\" y=\"-932.8\">re_lu_21: ReLU</text>\n<polyline fill=\"none\" points=\"194.5,-913.5 194.5,-959.5 \" stroke=\"#000000\"/>\n<text fill=\"#000000\" font-family=\"Times,serif\" font-size=\"14.00\" text-anchor=\"middle\" x=\"223.5\" y=\"-944.3\">input:</text>\n<polyline fill=\"none\" points=\"194.5,-936.5 252.5,-936.5 \" stroke=\"#000000\"/>\n<text fill=\"#000000\" font-family=\"Times,serif\" font-size=\"14.00\" text-anchor=\"middle\" x=\"223.5\" y=\"-921.3\">output:</text>\n<polyline fill=\"none\" points=\"252.5,-913.5 252.5,-959.5 \" stroke=\"#000000\"/>\n<text fill=\"#000000\" font-family=\"Times,serif\" font-size=\"14.00\" text-anchor=\"middle\" x=\"311\" y=\"-944.3\">(None, 8, 8, 256)</text>\n<polyline fill=\"none\" points=\"252.5,-936.5 369.5,-936.5 \" stroke=\"#000000\"/>\n<text fill=\"#000000\" font-family=\"Times,serif\" font-size=\"14.00\" text-anchor=\"middle\" x=\"311\" y=\"-921.3\">(None, 8, 8, 256)</text>\n</g>\n<!-- 139619622349904&#45;&gt;139619621264400 -->\n<g class=\"edge\" id=\"edge8\">\n<title>139619622349904-&gt;139619621264400</title>\n<path d=\"M226.5,-996.3799C226.5,-988.1745 226.5,-978.7679 226.5,-969.8786\" fill=\"none\" stroke=\"#000000\"/>\n<polygon fill=\"#000000\" points=\"230.0001,-969.784 226.5,-959.784 223.0001,-969.784 230.0001,-969.784\" stroke=\"#000000\"/>\n</g>\n<!-- 139619625297808 -->\n<g class=\"node\" id=\"node10\">\n<title>139619625297808</title>\n<polygon fill=\"none\" points=\"24.5,-830.5 24.5,-876.5 428.5,-876.5 428.5,-830.5 24.5,-830.5\" stroke=\"#000000\"/>\n<text fill=\"#000000\" font-family=\"Times,serif\" font-size=\"14.00\" text-anchor=\"middle\" x=\"139\" y=\"-849.8\">max_pooling2d_30: MaxPooling2D</text>\n<polyline fill=\"none\" points=\"253.5,-830.5 253.5,-876.5 \" stroke=\"#000000\"/>\n<text fill=\"#000000\" font-family=\"Times,serif\" font-size=\"14.00\" text-anchor=\"middle\" x=\"282.5\" y=\"-861.3\">input:</text>\n<polyline fill=\"none\" points=\"253.5,-853.5 311.5,-853.5 \" stroke=\"#000000\"/>\n<text fill=\"#000000\" font-family=\"Times,serif\" font-size=\"14.00\" text-anchor=\"middle\" x=\"282.5\" y=\"-838.3\">output:</text>\n<polyline fill=\"none\" points=\"311.5,-830.5 311.5,-876.5 \" stroke=\"#000000\"/>\n<text fill=\"#000000\" font-family=\"Times,serif\" font-size=\"14.00\" text-anchor=\"middle\" x=\"370\" y=\"-861.3\">(None, 8, 8, 256)</text>\n<polyline fill=\"none\" points=\"311.5,-853.5 428.5,-853.5 \" stroke=\"#000000\"/>\n<text fill=\"#000000\" font-family=\"Times,serif\" font-size=\"14.00\" text-anchor=\"middle\" x=\"370\" y=\"-838.3\">(None, 4, 4, 256)</text>\n</g>\n<!-- 139619621264400&#45;&gt;139619625297808 -->\n<g class=\"edge\" id=\"edge9\">\n<title>139619621264400-&gt;139619625297808</title>\n<path d=\"M226.5,-913.3799C226.5,-905.1745 226.5,-895.7679 226.5,-886.8786\" fill=\"none\" stroke=\"#000000\"/>\n<polygon fill=\"#000000\" points=\"230.0001,-886.784 226.5,-876.784 223.0001,-886.784 230.0001,-886.784\" stroke=\"#000000\"/>\n</g>\n<!-- 139619623756944 -->\n<g class=\"node\" id=\"node11\">\n<title>139619623756944</title>\n<polygon fill=\"none\" points=\"69,-747.5 69,-793.5 384,-793.5 384,-747.5 69,-747.5\" stroke=\"#000000\"/>\n<text fill=\"#000000\" font-family=\"Times,serif\" font-size=\"14.00\" text-anchor=\"middle\" x=\"139\" y=\"-766.8\">conv2d_46: Conv2D</text>\n<polyline fill=\"none\" points=\"209,-747.5 209,-793.5 \" stroke=\"#000000\"/>\n<text fill=\"#000000\" font-family=\"Times,serif\" font-size=\"14.00\" text-anchor=\"middle\" x=\"238\" y=\"-778.3\">input:</text>\n<polyline fill=\"none\" points=\"209,-770.5 267,-770.5 \" stroke=\"#000000\"/>\n<text fill=\"#000000\" font-family=\"Times,serif\" font-size=\"14.00\" text-anchor=\"middle\" x=\"238\" y=\"-755.3\">output:</text>\n<polyline fill=\"none\" points=\"267,-747.5 267,-793.5 \" stroke=\"#000000\"/>\n<text fill=\"#000000\" font-family=\"Times,serif\" font-size=\"14.00\" text-anchor=\"middle\" x=\"325.5\" y=\"-778.3\">(None, 4, 4, 256)</text>\n<polyline fill=\"none\" points=\"267,-770.5 384,-770.5 \" stroke=\"#000000\"/>\n<text fill=\"#000000\" font-family=\"Times,serif\" font-size=\"14.00\" text-anchor=\"middle\" x=\"325.5\" y=\"-755.3\">(None, 4, 4, 512)</text>\n</g>\n<!-- 139619625297808&#45;&gt;139619623756944 -->\n<g class=\"edge\" id=\"edge10\">\n<title>139619625297808-&gt;139619623756944</title>\n<path d=\"M226.5,-830.3799C226.5,-822.1745 226.5,-812.7679 226.5,-803.8786\" fill=\"none\" stroke=\"#000000\"/>\n<polygon fill=\"#000000\" points=\"230.0001,-803.784 226.5,-793.784 223.0001,-803.784 230.0001,-803.784\" stroke=\"#000000\"/>\n</g>\n<!-- 139619622298512 -->\n<g class=\"node\" id=\"node12\">\n<title>139619622298512</title>\n<polygon fill=\"none\" points=\"0,-664.5 0,-710.5 453,-710.5 453,-664.5 0,-664.5\" stroke=\"#000000\"/>\n<text fill=\"#000000\" font-family=\"Times,serif\" font-size=\"14.00\" text-anchor=\"middle\" x=\"139\" y=\"-683.8\">batch_normalization_22: BatchNormalization</text>\n<polyline fill=\"none\" points=\"278,-664.5 278,-710.5 \" stroke=\"#000000\"/>\n<text fill=\"#000000\" font-family=\"Times,serif\" font-size=\"14.00\" text-anchor=\"middle\" x=\"307\" y=\"-695.3\">input:</text>\n<polyline fill=\"none\" points=\"278,-687.5 336,-687.5 \" stroke=\"#000000\"/>\n<text fill=\"#000000\" font-family=\"Times,serif\" font-size=\"14.00\" text-anchor=\"middle\" x=\"307\" y=\"-672.3\">output:</text>\n<polyline fill=\"none\" points=\"336,-664.5 336,-710.5 \" stroke=\"#000000\"/>\n<text fill=\"#000000\" font-family=\"Times,serif\" font-size=\"14.00\" text-anchor=\"middle\" x=\"394.5\" y=\"-695.3\">(None, 4, 4, 512)</text>\n<polyline fill=\"none\" points=\"336,-687.5 453,-687.5 \" stroke=\"#000000\"/>\n<text fill=\"#000000\" font-family=\"Times,serif\" font-size=\"14.00\" text-anchor=\"middle\" x=\"394.5\" y=\"-672.3\">(None, 4, 4, 512)</text>\n</g>\n<!-- 139619623756944&#45;&gt;139619622298512 -->\n<g class=\"edge\" id=\"edge11\">\n<title>139619623756944-&gt;139619622298512</title>\n<path d=\"M226.5,-747.3799C226.5,-739.1745 226.5,-729.7679 226.5,-720.8786\" fill=\"none\" stroke=\"#000000\"/>\n<polygon fill=\"#000000\" points=\"230.0001,-720.784 226.5,-710.784 223.0001,-720.784 230.0001,-720.784\" stroke=\"#000000\"/>\n</g>\n<!-- 139619621125648 -->\n<g class=\"node\" id=\"node13\">\n<title>139619621125648</title>\n<polygon fill=\"none\" points=\"83.5,-581.5 83.5,-627.5 369.5,-627.5 369.5,-581.5 83.5,-581.5\" stroke=\"#000000\"/>\n<text fill=\"#000000\" font-family=\"Times,serif\" font-size=\"14.00\" text-anchor=\"middle\" x=\"139\" y=\"-600.8\">re_lu_22: ReLU</text>\n<polyline fill=\"none\" points=\"194.5,-581.5 194.5,-627.5 \" stroke=\"#000000\"/>\n<text fill=\"#000000\" font-family=\"Times,serif\" font-size=\"14.00\" text-anchor=\"middle\" x=\"223.5\" y=\"-612.3\">input:</text>\n<polyline fill=\"none\" points=\"194.5,-604.5 252.5,-604.5 \" stroke=\"#000000\"/>\n<text fill=\"#000000\" font-family=\"Times,serif\" font-size=\"14.00\" text-anchor=\"middle\" x=\"223.5\" y=\"-589.3\">output:</text>\n<polyline fill=\"none\" points=\"252.5,-581.5 252.5,-627.5 \" stroke=\"#000000\"/>\n<text fill=\"#000000\" font-family=\"Times,serif\" font-size=\"14.00\" text-anchor=\"middle\" x=\"311\" y=\"-612.3\">(None, 4, 4, 512)</text>\n<polyline fill=\"none\" points=\"252.5,-604.5 369.5,-604.5 \" stroke=\"#000000\"/>\n<text fill=\"#000000\" font-family=\"Times,serif\" font-size=\"14.00\" text-anchor=\"middle\" x=\"311\" y=\"-589.3\">(None, 4, 4, 512)</text>\n</g>\n<!-- 139619622298512&#45;&gt;139619621125648 -->\n<g class=\"edge\" id=\"edge12\">\n<title>139619622298512-&gt;139619621125648</title>\n<path d=\"M226.5,-664.3799C226.5,-656.1745 226.5,-646.7679 226.5,-637.8786\" fill=\"none\" stroke=\"#000000\"/>\n<polygon fill=\"#000000\" points=\"230.0001,-637.784 226.5,-627.784 223.0001,-637.784 230.0001,-637.784\" stroke=\"#000000\"/>\n</g>\n<!-- 139619621960016 -->\n<g class=\"node\" id=\"node14\">\n<title>139619621960016</title>\n<polygon fill=\"none\" points=\"69,-498.5 69,-544.5 384,-544.5 384,-498.5 69,-498.5\" stroke=\"#000000\"/>\n<text fill=\"#000000\" font-family=\"Times,serif\" font-size=\"14.00\" text-anchor=\"middle\" x=\"139\" y=\"-517.8\">conv2d_47: Conv2D</text>\n<polyline fill=\"none\" points=\"209,-498.5 209,-544.5 \" stroke=\"#000000\"/>\n<text fill=\"#000000\" font-family=\"Times,serif\" font-size=\"14.00\" text-anchor=\"middle\" x=\"238\" y=\"-529.3\">input:</text>\n<polyline fill=\"none\" points=\"209,-521.5 267,-521.5 \" stroke=\"#000000\"/>\n<text fill=\"#000000\" font-family=\"Times,serif\" font-size=\"14.00\" text-anchor=\"middle\" x=\"238\" y=\"-506.3\">output:</text>\n<polyline fill=\"none\" points=\"267,-498.5 267,-544.5 \" stroke=\"#000000\"/>\n<text fill=\"#000000\" font-family=\"Times,serif\" font-size=\"14.00\" text-anchor=\"middle\" x=\"325.5\" y=\"-529.3\">(None, 4, 4, 512)</text>\n<polyline fill=\"none\" points=\"267,-521.5 384,-521.5 \" stroke=\"#000000\"/>\n<text fill=\"#000000\" font-family=\"Times,serif\" font-size=\"14.00\" text-anchor=\"middle\" x=\"325.5\" y=\"-506.3\">(None, 4, 4, 512)</text>\n</g>\n<!-- 139619621125648&#45;&gt;139619621960016 -->\n<g class=\"edge\" id=\"edge13\">\n<title>139619621125648-&gt;139619621960016</title>\n<path d=\"M226.5,-581.3799C226.5,-573.1745 226.5,-563.7679 226.5,-554.8786\" fill=\"none\" stroke=\"#000000\"/>\n<polygon fill=\"#000000\" points=\"230.0001,-554.784 226.5,-544.784 223.0001,-554.784 230.0001,-554.784\" stroke=\"#000000\"/>\n</g>\n<!-- 139619622239568 -->\n<g class=\"node\" id=\"node15\">\n<title>139619622239568</title>\n<polygon fill=\"none\" points=\"0,-415.5 0,-461.5 453,-461.5 453,-415.5 0,-415.5\" stroke=\"#000000\"/>\n<text fill=\"#000000\" font-family=\"Times,serif\" font-size=\"14.00\" text-anchor=\"middle\" x=\"139\" y=\"-434.8\">batch_normalization_23: BatchNormalization</text>\n<polyline fill=\"none\" points=\"278,-415.5 278,-461.5 \" stroke=\"#000000\"/>\n<text fill=\"#000000\" font-family=\"Times,serif\" font-size=\"14.00\" text-anchor=\"middle\" x=\"307\" y=\"-446.3\">input:</text>\n<polyline fill=\"none\" points=\"278,-438.5 336,-438.5 \" stroke=\"#000000\"/>\n<text fill=\"#000000\" font-family=\"Times,serif\" font-size=\"14.00\" text-anchor=\"middle\" x=\"307\" y=\"-423.3\">output:</text>\n<polyline fill=\"none\" points=\"336,-415.5 336,-461.5 \" stroke=\"#000000\"/>\n<text fill=\"#000000\" font-family=\"Times,serif\" font-size=\"14.00\" text-anchor=\"middle\" x=\"394.5\" y=\"-446.3\">(None, 4, 4, 512)</text>\n<polyline fill=\"none\" points=\"336,-438.5 453,-438.5 \" stroke=\"#000000\"/>\n<text fill=\"#000000\" font-family=\"Times,serif\" font-size=\"14.00\" text-anchor=\"middle\" x=\"394.5\" y=\"-423.3\">(None, 4, 4, 512)</text>\n</g>\n<!-- 139619621960016&#45;&gt;139619622239568 -->\n<g class=\"edge\" id=\"edge14\">\n<title>139619621960016-&gt;139619622239568</title>\n<path d=\"M226.5,-498.3799C226.5,-490.1745 226.5,-480.7679 226.5,-471.8786\" fill=\"none\" stroke=\"#000000\"/>\n<polygon fill=\"#000000\" points=\"230.0001,-471.784 226.5,-461.784 223.0001,-471.784 230.0001,-471.784\" stroke=\"#000000\"/>\n</g>\n<!-- 139619622270800 -->\n<g class=\"node\" id=\"node16\">\n<title>139619622270800</title>\n<polygon fill=\"none\" points=\"83.5,-332.5 83.5,-378.5 369.5,-378.5 369.5,-332.5 83.5,-332.5\" stroke=\"#000000\"/>\n<text fill=\"#000000\" font-family=\"Times,serif\" font-size=\"14.00\" text-anchor=\"middle\" x=\"139\" y=\"-351.8\">re_lu_23: ReLU</text>\n<polyline fill=\"none\" points=\"194.5,-332.5 194.5,-378.5 \" stroke=\"#000000\"/>\n<text fill=\"#000000\" font-family=\"Times,serif\" font-size=\"14.00\" text-anchor=\"middle\" x=\"223.5\" y=\"-363.3\">input:</text>\n<polyline fill=\"none\" points=\"194.5,-355.5 252.5,-355.5 \" stroke=\"#000000\"/>\n<text fill=\"#000000\" font-family=\"Times,serif\" font-size=\"14.00\" text-anchor=\"middle\" x=\"223.5\" y=\"-340.3\">output:</text>\n<polyline fill=\"none\" points=\"252.5,-332.5 252.5,-378.5 \" stroke=\"#000000\"/>\n<text fill=\"#000000\" font-family=\"Times,serif\" font-size=\"14.00\" text-anchor=\"middle\" x=\"311\" y=\"-363.3\">(None, 4, 4, 512)</text>\n<polyline fill=\"none\" points=\"252.5,-355.5 369.5,-355.5 \" stroke=\"#000000\"/>\n<text fill=\"#000000\" font-family=\"Times,serif\" font-size=\"14.00\" text-anchor=\"middle\" x=\"311\" y=\"-340.3\">(None, 4, 4, 512)</text>\n</g>\n<!-- 139619622239568&#45;&gt;139619622270800 -->\n<g class=\"edge\" id=\"edge15\">\n<title>139619622239568-&gt;139619622270800</title>\n<path d=\"M226.5,-415.3799C226.5,-407.1745 226.5,-397.7679 226.5,-388.8786\" fill=\"none\" stroke=\"#000000\"/>\n<polygon fill=\"#000000\" points=\"230.0001,-388.784 226.5,-378.784 223.0001,-388.784 230.0001,-388.784\" stroke=\"#000000\"/>\n</g>\n<!-- 139619622996688 -->\n<g class=\"node\" id=\"node17\">\n<title>139619622996688</title>\n<polygon fill=\"none\" points=\"24.5,-249.5 24.5,-295.5 428.5,-295.5 428.5,-249.5 24.5,-249.5\" stroke=\"#000000\"/>\n<text fill=\"#000000\" font-family=\"Times,serif\" font-size=\"14.00\" text-anchor=\"middle\" x=\"139\" y=\"-268.8\">max_pooling2d_31: MaxPooling2D</text>\n<polyline fill=\"none\" points=\"253.5,-249.5 253.5,-295.5 \" stroke=\"#000000\"/>\n<text fill=\"#000000\" font-family=\"Times,serif\" font-size=\"14.00\" text-anchor=\"middle\" x=\"282.5\" y=\"-280.3\">input:</text>\n<polyline fill=\"none\" points=\"253.5,-272.5 311.5,-272.5 \" stroke=\"#000000\"/>\n<text fill=\"#000000\" font-family=\"Times,serif\" font-size=\"14.00\" text-anchor=\"middle\" x=\"282.5\" y=\"-257.3\">output:</text>\n<polyline fill=\"none\" points=\"311.5,-249.5 311.5,-295.5 \" stroke=\"#000000\"/>\n<text fill=\"#000000\" font-family=\"Times,serif\" font-size=\"14.00\" text-anchor=\"middle\" x=\"370\" y=\"-280.3\">(None, 4, 4, 512)</text>\n<polyline fill=\"none\" points=\"311.5,-272.5 428.5,-272.5 \" stroke=\"#000000\"/>\n<text fill=\"#000000\" font-family=\"Times,serif\" font-size=\"14.00\" text-anchor=\"middle\" x=\"370\" y=\"-257.3\">(None, 2, 2, 512)</text>\n</g>\n<!-- 139619622270800&#45;&gt;139619622996688 -->\n<g class=\"edge\" id=\"edge16\">\n<title>139619622270800-&gt;139619622996688</title>\n<path d=\"M226.5,-332.3799C226.5,-324.1745 226.5,-314.7679 226.5,-305.8786\" fill=\"none\" stroke=\"#000000\"/>\n<polygon fill=\"#000000\" points=\"230.0001,-305.784 226.5,-295.784 223.0001,-305.784 230.0001,-305.784\" stroke=\"#000000\"/>\n</g>\n<!-- 139619622331280 -->\n<g class=\"node\" id=\"node18\">\n<title>139619622331280</title>\n<polygon fill=\"none\" points=\"82.5,-166.5 82.5,-212.5 370.5,-212.5 370.5,-166.5 82.5,-166.5\" stroke=\"#000000\"/>\n<text fill=\"#000000\" font-family=\"Times,serif\" font-size=\"14.00\" text-anchor=\"middle\" x=\"139\" y=\"-185.8\">flatten_7: Flatten</text>\n<polyline fill=\"none\" points=\"195.5,-166.5 195.5,-212.5 \" stroke=\"#000000\"/>\n<text fill=\"#000000\" font-family=\"Times,serif\" font-size=\"14.00\" text-anchor=\"middle\" x=\"224.5\" y=\"-197.3\">input:</text>\n<polyline fill=\"none\" points=\"195.5,-189.5 253.5,-189.5 \" stroke=\"#000000\"/>\n<text fill=\"#000000\" font-family=\"Times,serif\" font-size=\"14.00\" text-anchor=\"middle\" x=\"224.5\" y=\"-174.3\">output:</text>\n<polyline fill=\"none\" points=\"253.5,-166.5 253.5,-212.5 \" stroke=\"#000000\"/>\n<text fill=\"#000000\" font-family=\"Times,serif\" font-size=\"14.00\" text-anchor=\"middle\" x=\"312\" y=\"-197.3\">(None, 2, 2, 512)</text>\n<polyline fill=\"none\" points=\"253.5,-189.5 370.5,-189.5 \" stroke=\"#000000\"/>\n<text fill=\"#000000\" font-family=\"Times,serif\" font-size=\"14.00\" text-anchor=\"middle\" x=\"312\" y=\"-174.3\">(None, 2048)</text>\n</g>\n<!-- 139619622996688&#45;&gt;139619622331280 -->\n<g class=\"edge\" id=\"edge17\">\n<title>139619622996688-&gt;139619622331280</title>\n<path d=\"M226.5,-249.3799C226.5,-241.1745 226.5,-231.7679 226.5,-222.8786\" fill=\"none\" stroke=\"#000000\"/>\n<polygon fill=\"#000000\" points=\"230.0001,-222.784 226.5,-212.784 223.0001,-222.784 230.0001,-222.784\" stroke=\"#000000\"/>\n</g>\n<!-- 139619622261840 -->\n<g class=\"node\" id=\"node19\">\n<title>139619622261840</title>\n<polygon fill=\"none\" points=\"83,-83.5 83,-129.5 370,-129.5 370,-83.5 83,-83.5\" stroke=\"#000000\"/>\n<text fill=\"#000000\" font-family=\"Times,serif\" font-size=\"14.00\" text-anchor=\"middle\" x=\"150\" y=\"-102.8\">dropout_7: Dropout</text>\n<polyline fill=\"none\" points=\"217,-83.5 217,-129.5 \" stroke=\"#000000\"/>\n<text fill=\"#000000\" font-family=\"Times,serif\" font-size=\"14.00\" text-anchor=\"middle\" x=\"246\" y=\"-114.3\">input:</text>\n<polyline fill=\"none\" points=\"217,-106.5 275,-106.5 \" stroke=\"#000000\"/>\n<text fill=\"#000000\" font-family=\"Times,serif\" font-size=\"14.00\" text-anchor=\"middle\" x=\"246\" y=\"-91.3\">output:</text>\n<polyline fill=\"none\" points=\"275,-83.5 275,-129.5 \" stroke=\"#000000\"/>\n<text fill=\"#000000\" font-family=\"Times,serif\" font-size=\"14.00\" text-anchor=\"middle\" x=\"322.5\" y=\"-114.3\">(None, 2048)</text>\n<polyline fill=\"none\" points=\"275,-106.5 370,-106.5 \" stroke=\"#000000\"/>\n<text fill=\"#000000\" font-family=\"Times,serif\" font-size=\"14.00\" text-anchor=\"middle\" x=\"322.5\" y=\"-91.3\">(None, 2048)</text>\n</g>\n<!-- 139619622331280&#45;&gt;139619622261840 -->\n<g class=\"edge\" id=\"edge18\">\n<title>139619622331280-&gt;139619622261840</title>\n<path d=\"M226.5,-166.3799C226.5,-158.1745 226.5,-148.7679 226.5,-139.8786\" fill=\"none\" stroke=\"#000000\"/>\n<polygon fill=\"#000000\" points=\"230.0001,-139.784 226.5,-129.784 223.0001,-139.784 230.0001,-139.784\" stroke=\"#000000\"/>\n</g>\n<!-- 139619622392784 -->\n<g class=\"node\" id=\"node20\">\n<title>139619622392784</title>\n<polygon fill=\"none\" points=\"96.5,-.5 96.5,-46.5 356.5,-46.5 356.5,-.5 96.5,-.5\" stroke=\"#000000\"/>\n<text fill=\"#000000\" font-family=\"Times,serif\" font-size=\"14.00\" text-anchor=\"middle\" x=\"150\" y=\"-19.8\">dense_6: Dense</text>\n<polyline fill=\"none\" points=\"203.5,-.5 203.5,-46.5 \" stroke=\"#000000\"/>\n<text fill=\"#000000\" font-family=\"Times,serif\" font-size=\"14.00\" text-anchor=\"middle\" x=\"232.5\" y=\"-31.3\">input:</text>\n<polyline fill=\"none\" points=\"203.5,-23.5 261.5,-23.5 \" stroke=\"#000000\"/>\n<text fill=\"#000000\" font-family=\"Times,serif\" font-size=\"14.00\" text-anchor=\"middle\" x=\"232.5\" y=\"-8.3\">output:</text>\n<polyline fill=\"none\" points=\"261.5,-.5 261.5,-46.5 \" stroke=\"#000000\"/>\n<text fill=\"#000000\" font-family=\"Times,serif\" font-size=\"14.00\" text-anchor=\"middle\" x=\"309\" y=\"-31.3\">(None, 2048)</text>\n<polyline fill=\"none\" points=\"261.5,-23.5 356.5,-23.5 \" stroke=\"#000000\"/>\n<text fill=\"#000000\" font-family=\"Times,serif\" font-size=\"14.00\" text-anchor=\"middle\" x=\"309\" y=\"-8.3\">(None, 2350)</text>\n</g>\n<!-- 139619622261840&#45;&gt;139619622392784 -->\n<g class=\"edge\" id=\"edge19\">\n<title>139619622261840-&gt;139619622392784</title>\n<path d=\"M226.5,-83.3799C226.5,-75.1745 226.5,-65.7679 226.5,-56.8786\" fill=\"none\" stroke=\"#000000\"/>\n<polygon fill=\"#000000\" points=\"230.0001,-56.784 226.5,-46.784 223.0001,-56.784 230.0001,-56.784\" stroke=\"#000000\"/>\n</g>\n</g>\n</svg>"
          },
          "metadata": {
            "tags": []
          },
          "execution_count": 11
        }
      ]
    },
    {
      "cell_type": "code",
      "metadata": {
        "id": "4JtSHWolx8d0"
      },
      "source": [
        ""
      ],
      "execution_count": null,
      "outputs": []
    }
  ]
}